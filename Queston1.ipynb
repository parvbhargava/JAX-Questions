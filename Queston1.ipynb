{
  "nbformat": 4,
  "nbformat_minor": 0,
  "metadata": {
    "colab": {
      "name": "Queston1.ipynb",
      "private_outputs": true,
      "provenance": [],
      "authorship_tag": "ABX9TyNXg87GrloTSae9vp8XdmhG",
      "include_colab_link": true
    },
    "kernelspec": {
      "name": "python3",
      "display_name": "Python 3"
    },
    "language_info": {
      "name": "python"
    }
  },
  "cells": [
    {
      "cell_type": "markdown",
      "metadata": {
        "id": "view-in-github",
        "colab_type": "text"
      },
      "source": [
        "<a href=\"https://colab.research.google.com/github/parvbhargava/SRIP-Parv-Bhargava/blob/main/Queston1.ipynb\" target=\"_parent\"><img src=\"https://colab.research.google.com/assets/colab-badge.svg\" alt=\"Open In Colab\"/></a>"
      ]
    },
    {
      "cell_type": "code",
      "source": [
        "# Importing the necessary modules\n",
        "import numpy as np\n",
        "import jax.numpy as jnp\n",
        "from jax import random\n",
        "from jax.scipy.stats import multivariate_normal\n",
        "import matplotlib.pyplot as plt\n",
        "from matplotlib import cm\n",
        "from mpl_toolkits.mplot3d import Axes3D\n",
        "key = random.PRNGKey(29)"
      ],
      "metadata": {
        "id": "Z8vdTgGRkLqt"
      },
      "execution_count": null,
      "outputs": []
    },
    {
      "cell_type": "code",
      "source": [
        "# Our 2-dimensional distribution will be over variables X and Y\n",
        "# Since device arrays are immutable hence we used ndarray.\n",
        "N = 60\n",
        "X = np.linspace(-3, 3, N)\n",
        "Y = np.linspace(-3, 4, N)\n",
        "X, Y = np.meshgrid(X, Y)\n",
        "\n",
        "# Mean vector and covariance matrix\n",
        "mu = jnp.array([0., 1.])\n",
        "Sigma = jnp.array([[ 1. , 0.6], [0.6,  2]])\n",
        "\n",
        "# Pack X and Y into a single 3-dimensional array\n",
        "pos = np.empty(X.shape + (2,))\n",
        "pos[:, :, 0] = X\n",
        "pos[:, :, 1] = Y\n",
        "\n",
        "def multivariate_gaussian(pos, mu, Sigma):\n",
        "    \"\"\"Return the multivariate Gaussian distribution on array pos.\n",
        "\n",
        "    pos is an array constructed by packing the meshed arrays of variables\n",
        "    x_1, x_2, x_3, ..., x_k into its _last_ dimension.\n",
        "\n",
        "    \"\"\"\n",
        "\n",
        "    n = mu.shape[0]\n",
        "    Sigma_det = jnp.linalg.det(Sigma)\n",
        "    Sigma_inv = jnp.linalg.inv(Sigma)\n",
        "    N = jnp.sqrt((2*np.pi)**n * Sigma_det)\n",
        "    # This einsum call calculates (x-mu)T.Sigma-1.(x-mu) in a vectorized\n",
        "    # way across all the input variables.\n",
        "    fac = jnp.einsum('...k,kl,...l->...', pos-mu, Sigma_inv, pos-mu)\n",
        "\n",
        "    return jnp.exp(-fac / 2) / N\n",
        "\n",
        "# The distribution on the variables X, Y packed into pos.\n",
        "Z = multivariate_gaussian(pos, mu, Sigma)\n",
        "\n",
        "# Create a surface plot and projected filled contour plot under it.\n",
        "fig = plt.figure()\n",
        "ax = fig.gca(projection='3d')\n",
        "# ax.plot_surface(X, Y, Z, rstride=3, cstride=3, linewidth=1, antialiased=True,\n",
        "#                 cmap=cm.viridis)\n",
        "\n",
        "cset = ax.contourf(X, Y, Z, zdir='z', offset=-0.15, cmap=cm.viridis)\n",
        "\n",
        "\n",
        "\n",
        "# Adjust the limits, ticks and view angle\n",
        "ax.set_zlim(-0.15,0.2)\n",
        "ax.set_zticks(jnp.linspace(0,0.2,5))\n",
        "ax.view_init(27, -21)\n",
        "\n",
        "plt.show()"
      ],
      "metadata": {
        "id": "Upy8GW_ZkjMb"
      },
      "execution_count": null,
      "outputs": []
    },
    {
      "cell_type": "code",
      "source": [
        "import matplotlib.pyplot as plt\n",
        "Sigma_det = jnp.linalg.det(Sigma)\n",
        "x = jnp.linspace(-6, 7, 10, endpoint=False)\n",
        "y = multivariate_normal.pdf(x, mean=0, cov=Sigma_det); \n",
        "fig1 = plt.figure()\n",
        "ax = fig1.add_subplot(111)\n",
        "ax.plot(x, y)"
      ],
      "metadata": {
        "id": "i_gffrUipHpf"
      },
      "execution_count": null,
      "outputs": []
    }
  ]
}