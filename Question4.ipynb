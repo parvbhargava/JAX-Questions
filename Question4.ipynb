{
  "nbformat": 4,
  "nbformat_minor": 0,
  "metadata": {
    "colab": {
      "name": "Question4.ipynb",
      "private_outputs": true,
      "provenance": [],
      "authorship_tag": "ABX9TyNfGWZompEsZGqlBIROWYgX",
      "include_colab_link": true
    },
    "kernelspec": {
      "name": "python3",
      "display_name": "Python 3"
    },
    "language_info": {
      "name": "python"
    }
  },
  "cells": [
    {
      "cell_type": "markdown",
      "metadata": {
        "id": "view-in-github",
        "colab_type": "text"
      },
      "source": [
        "<a href=\"https://colab.research.google.com/github/parvbhargava/SRIP-Parv-Bhargava/blob/main/Question4.ipynb\" target=\"_parent\"><img src=\"https://colab.research.google.com/assets/colab-badge.svg\" alt=\"Open In Colab\"/></a>"
      ]
    },
    {
      "cell_type": "code",
      "source": [
        "!pip install blackjax"
      ],
      "metadata": {
        "id": "UD7sjAQc9yCp"
      },
      "execution_count": null,
      "outputs": []
    },
    {
      "cell_type": "code",
      "execution_count": null,
      "metadata": {
        "id": "73y1au490-pg"
      },
      "outputs": [],
      "source": [
        "import jax \n",
        "from jax import random\n",
        "import jax.numpy as jnp\n",
        "key = random.PRNGKey(16)\n",
        "import matplotlib.pyplot as plt\n",
        "from blackjax import hmc"
      ]
    },
    {
      "cell_type": "code",
      "source": [
        "class BayesianLinearRegression:\n",
        "    \"\"\" Bayesian linear regression\n",
        "    \n",
        "    Args:\n",
        "        prior_mean: Mean values of the prior distribution (m_0)\n",
        "        prior_cov: Covariance matrix of the prior distribution (S_0)\n",
        "        noise_var: Variance of the noise distribution\n",
        "    \"\"\"\n",
        "    \n",
        "    def __init__(self, prior_mean: jnp.DeviceArray, prior_cov: jnp.DeviceArray, noise_var: float):\n",
        "        self.prior_mean = prior_mean[:, jnp.newaxis] # column vector of shape (1, d)\n",
        "        self.prior_cov = prior_cov # matrix of shape (d, d)\n",
        "        # We initalize the prior distribution over the parameters using the given mean and covariance matrix\n",
        "        # In the formulas above this corresponds to m_0 (prior_mean) and S_0 (prior_cov)\n",
        "        self.prior = random.multivariate_normal(key,prior_mean, prior_cov)\n",
        "        \n",
        "        # We also know the variance of the noise\n",
        "        self.noise_var = noise_var # single float value\n",
        "        self.noise_precision = 1 / noise_var\n",
        "        \n",
        "        # Before performing any inference the parameter posterior equals the parameter prior\n",
        "        self.param_posterior = self.prior\n",
        "        # Accordingly, the posterior mean and covariance equal the prior mean and variance\n",
        "        self.post_mean = self.prior_mean # corresponds to m_N in formulas\n",
        "        self.post_cov = self.prior_cov # corresponds to S_N in formulas\n",
        "        \n",
        "        \n",
        "# Let's make sure that we can initialize our model\n",
        "prior_mean = jnp.array([0, 0])\n",
        "prior_cov = jnp.array([[0.5, 0], [0, 0.5]])\n",
        "noise_var = 0.2\n",
        "blr = BayesianLinearRegression(prior_mean, prior_cov, noise_var)\n",
        "prior_cov"
      ],
      "metadata": {
        "id": "3uot39u94DXT"
      },
      "execution_count": null,
      "outputs": []
    },
    {
      "cell_type": "code",
      "source": [
        "import numpy as np\n",
        "def compute_function_labels(slope: float, intercept: float, noise_std_dev: float, data: np.ndarray) -> np.ndarray:\n",
        "    \"\"\"\n",
        "    Compute target values given function parameters and data.\n",
        "    \n",
        "    Args:\n",
        "        slope: slope of the function (theta_1)\n",
        "        intercept: intercept of the function (theta_0)\n",
        "        data: input feature values (x)\n",
        "        noise_std_dev: standard deviation of noise distribution (sigma)\n",
        "        \n",
        "    Returns:\n",
        "        target values, either true or corrupted with noise\n",
        "    \"\"\"\n",
        "    \n",
        "    n_samples = len(data)\n",
        "    if noise_std_dev == 0: # Real function\n",
        "        return slope * data + intercept\n",
        "    else: # Noise corrupted\n",
        "        return slope * data + intercept + np.random.normal(0, noise_std_dev, n_samples)"
      ],
      "metadata": {
        "id": "HJAIXdz64jIT"
      },
      "execution_count": null,
      "outputs": []
    },
    {
      "cell_type": "code",
      "source": [
        "n_datapoints = 1000\n",
        "intercept = -0.7\n",
        "slope = 0.9\n",
        "noise_std_dev = 0.5\n",
        "noise_var = noise_std_dev**2\n",
        "lower_bound = -1.5\n",
        "upper_bound = 1.5\n",
        "# Generate dataset\n",
        "features = random.uniform(key,( n_datapoints,),minval= lower_bound, maxval= upper_bound)\n",
        "labels = compute_function_labels(slope, intercept, 0., features)\n",
        "noise_corrupted_labels = compute_function_labels(slope, intercept, noise_std_dev, features)"
      ],
      "metadata": {
        "id": "LLCI8PcA4QHU"
      },
      "execution_count": null,
      "outputs": []
    },
    {
      "cell_type": "code",
      "source": [
        "plt.figure(figsize=(10,7))\n",
        "plt.plot(features, labels, color='r', label=\"True values\")\n",
        "plt.scatter(features, noise_corrupted_labels, label=\"Noise corrupted values\")\n",
        "plt.xlabel(\"Features\")\n",
        "plt.ylabel(\"Labels\")\n",
        "plt.title(\"Real function along with noisy targets\")\n",
        "plt.legend();"
      ],
      "metadata": {
        "id": "b-Ajwy1U5BRo"
      },
      "execution_count": null,
      "outputs": []
    }
  ]
}