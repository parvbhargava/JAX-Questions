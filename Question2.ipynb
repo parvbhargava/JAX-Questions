{
  "nbformat": 4,
  "nbformat_minor": 0,
  "metadata": {
    "colab": {
      "name": "Question2.ipynb",
      "private_outputs": true,
      "provenance": [],
      "authorship_tag": "ABX9TyPfqsyKl3sQPYqGkQC1PlbJ",
      "include_colab_link": true
    },
    "kernelspec": {
      "name": "python3",
      "display_name": "Python 3"
    },
    "language_info": {
      "name": "python"
    }
  },
  "cells": [
    {
      "cell_type": "markdown",
      "metadata": {
        "id": "view-in-github",
        "colab_type": "text"
      },
      "source": [
        "<a href=\"https://colab.research.google.com/github/parvbhargava/SRIP-Parv-Bhargava/blob/main/Question2.ipynb\" target=\"_parent\"><img src=\"https://colab.research.google.com/assets/colab-badge.svg\" alt=\"Open In Colab\"/></a>"
      ]
    },
    {
      "cell_type": "markdown",
      "source": [
        "#Sampling from a Multivariate Normal Distribution\n",
        "###Multivariate Normal Distribution\n",
        "\n"
      ],
      "metadata": {
        "id": "E80qoNIlwhIs"
      }
    },
    {
      "cell_type": "code",
      "source": [
        "import jax.numpy as jnp\n",
        "import jax.random as random\n",
        "key = random.PRNGKey(23)"
      ],
      "metadata": {
        "id": "kSABnKn2wgyF"
      },
      "execution_count": null,
      "outputs": []
    },
    {
      "cell_type": "markdown",
      "source": [
        "##Set parameters"
      ],
      "metadata": {
        "id": "A5EYz1oLw_iZ"
      }
    },
    {
      "cell_type": "code",
      "execution_count": null,
      "metadata": {
        "id": "afLdCqSQpY2g"
      },
      "outputs": [],
      "source": [
        "# Define dimension. \n",
        "d = 10\n",
        "# Set mean vector. \n",
        "m = random.randint(key,shape=(1,10),minval= -10,maxval= 10).reshape(10,1)\n",
        "# Set covariance function.\n",
        "K_0 = m = random.randint(key,shape=(10,10),minval= -10,maxval= 10)\n",
        "K_0"
      ]
    },
    {
      "cell_type": "markdown",
      "source": [
        "##Sampling Process\n",
        "###Step 1: Compute the Cholesky Decomposition"
      ],
      "metadata": {
        "id": "vI6uoO5pxD8l"
      }
    },
    {
      "cell_type": "code",
      "source": [
        "# Define epsilon.\n",
        "epsilon = 0.0001\n",
        "\n",
        "# Add small pertturbation. \n",
        "K = K_0 + epsilon*jnp.identity(d)\n",
        "\n",
        "#  Cholesky decomposition.\n",
        "L = jnp.linalg.cholesky(K)\n",
        "L"
      ],
      "metadata": {
        "id": "K9yh-S3Bw-hZ"
      },
      "execution_count": null,
      "outputs": []
    },
    {
      "cell_type": "markdown",
      "source": [
        "Let us verify desired property"
      ],
      "metadata": {
        "id": "cQCb-j3IxeF-"
      }
    },
    {
      "cell_type": "code",
      "source": [
        "jnp.dot(L, jnp.transpose(L))"
      ],
      "metadata": {
        "id": "-F-_2OvnxdgT"
      },
      "execution_count": null,
      "outputs": []
    },
    {
      "cell_type": "markdown",
      "source": [
        "###Step 2: Generate Independent Samples\n",
        "\n"
      ],
      "metadata": {
        "id": "CAoyf6KRxl0a"
      }
    },
    {
      "cell_type": "code",
      "source": [
        "n = 10000\n",
        "u = random.uniform(key,shape=(d, n),minval=-3 , maxval=3)\n",
        "u"
      ],
      "metadata": {
        "id": "Boub3asExpUe"
      },
      "execution_count": null,
      "outputs": []
    },
    {
      "cell_type": "markdown",
      "source": [
        "### Step 3: Compute "
      ],
      "metadata": {
        "id": "HHbdiNgNw3h0"
      }
    },
    {
      "cell_type": "code",
      "source": [
        "x = m + jnp.dot(L, u)"
      ],
      "metadata": {
        "id": "-ua6bHCTz6Mx"
      },
      "execution_count": null,
      "outputs": []
    }
  ]
}