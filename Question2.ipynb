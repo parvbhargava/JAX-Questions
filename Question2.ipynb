{
  "nbformat": 4,
  "nbformat_minor": 0,
  "metadata": {
    "colab": {
      "name": "Question2.ipynb",
      "private_outputs": true,
      "provenance": [],
      "authorship_tag": "ABX9TyODDC4KNrF05AchXgel3/pM",
      "include_colab_link": true
    },
    "kernelspec": {
      "name": "python3",
      "display_name": "Python 3"
    },
    "language_info": {
      "name": "python"
    }
  },
  "cells": [
    {
      "cell_type": "markdown",
      "metadata": {
        "id": "view-in-github",
        "colab_type": "text"
      },
      "source": [
        "<a href=\"https://colab.research.google.com/github/parvbhargava/SRIP-Parv-Bhargava/blob/main/Question2.ipynb\" target=\"_parent\"><img src=\"https://colab.research.google.com/assets/colab-badge.svg\" alt=\"Open In Colab\"/></a>"
      ]
    },
    {
      "cell_type": "markdown",
      "source": [
        "#Sampling from a Multivariate Normal Distribution\n",
        "###Multivariate Normal Distribution\n",
        "\n",
        "Recall that a random vector X  = (X<sub>1</sub>, X<sub>d</sub>) has a multivariate normal (or Gaussian) distribution if every linear combination \n",
        "\n",
        "\\begin{align}\n",
        "         \\sum_{i=1}^d a_i X_i,\\text{ a 𝝐 ℝ}\n",
        "    \\end{align}\n",
        "\n",
        "is normally distributed.\n",
        "\n",
        "Warning: The sum of two normally distributed random variables does not need to be normally distributed (see below).\n",
        "\n",
        "The multivariate normal distribution has a joint probability density given by\n",
        "\n",
        "\\begin{align} \n",
        "      p(x|m,K_o,) = (2π)^{-d/2}|K_0|^{-1/2}exp\\left(-\\frac{1}{2}(x-m)^TK_0^{ -1}(x-m)\\right)\n",
        "\\end{align}\n",
        "\n",
        "where m<sup>d</sup> is the mean vector and K<sub>0</sub>M<sub>d</sub>( ) is the (symmetric, positive definite) covariance matrix."
      ],
      "metadata": {
        "id": "E80qoNIlwhIs"
      }
    },
    {
      "cell_type": "code",
      "source": [
        "import jax.numpy as jnp\n",
        "import jax.random as random\n",
        "key = random.PRNGKey(23)  "
      ],
      "metadata": {
        "id": "kSABnKn2wgyF"
      },
      "execution_count": null,
      "outputs": []
    },
    {
      "cell_type": "markdown",
      "source": [
        "##Set parameters\n",
        "\n"
      ],
      "metadata": {
        "id": "A5EYz1oLw_iZ"
      }
    },
    {
      "cell_type": "code",
      "execution_count": null,
      "metadata": {
        "id": "afLdCqSQpY2g"
      },
      "outputs": [],
      "source": [
        "# Define dimension. \n",
        "d = 10\n",
        "# Set mean vector. \n",
        "m = jnp.array([1,2,3,4,5,6,7,8,9,10])\n",
        "# Set covariance function.\n",
        "K_0 = jnp.array([[1,0,0,0,0,0,0,0,0,0],\n",
        "       [0,1,0,0,0,0,0,0,0,0],\n",
        "       [0,0,1,0,0,0,0,0,0,0],\n",
        "       [0,0,0,1,0,0,0,0,0,0],\n",
        "       [0,0,0,0,1,0,0,0,0,0],\n",
        "       [0,0,0,0,0,1,0,0,0,0],\n",
        "       [0,0,0,0,0,0,1,0,0,0],\n",
        "       [0,0,0,0,0,0,0,1,0,0],\n",
        "       [0,0,0,0,0,0,0,0,1,0],\n",
        "       [0,0,0,0,0,0,0,0,0,1]])\n",
        "\n",
        "K_0 , m.reshape(10,1)"
      ]
    },
    {
      "cell_type": "markdown",
      "source": [
        "##Sampling Process\n",
        "###Step 1: Compute the Cholesky Decomposition\n",
        "We want to compute the Cholesky decomposition of the covariance matrix K<sub>0</sub>.That is, we want to find a lower triangular matrix LM<sub>d</sub>()  such that        \n",
        "\\begin{align}K_0=LL^T\\end{align}\n",
        "\n",
        "“In practice it may be necessary to add a small multiple of the identity matrix I to the covariance matrix for numerical reasons. This is because the eigenvalues of the matrix \n",
        "K<sub>0</sub> can decay very rapidly and without this stabilization the Cholesky decomposition fails. The effect on the generated samples is to add additional independent noise of variance . From the context  can usually be chosen to have inconsequential effects on the samples, while ensuring numerical stability.”"
      ],
      "metadata": {
        "id": "vI6uoO5pxD8l"
      }
    },
    {
      "cell_type": "code",
      "source": [
        "# Define epsilon.\n",
        "epsilon = 0.0001\n",
        "\n",
        "# Add small pertturbation. \n",
        "K = K_0 + epsilon*jnp.identity(d)\n",
        "\n",
        "#  Cholesky decomposition.\n",
        "L = jnp.linalg.cholesky(K)\n",
        "L"
      ],
      "metadata": {
        "id": "K9yh-S3Bw-hZ"
      },
      "execution_count": null,
      "outputs": []
    },
    {
      "cell_type": "markdown",
      "source": [
        "Let us verify desired property"
      ],
      "metadata": {
        "id": "cQCb-j3IxeF-"
      }
    },
    {
      "cell_type": "code",
      "source": [
        "jnp.dot(L, jnp.transpose(L))"
      ],
      "metadata": {
        "id": "-F-_2OvnxdgT"
      },
      "execution_count": null,
      "outputs": []
    },
    {
      "cell_type": "markdown",
      "source": [
        "###Step 2: Generate Independent Samples  𝒰 ∼ N( 0, I )\n",
        "\n"
      ],
      "metadata": {
        "id": "CAoyf6KRxl0a"
      }
    },
    {
      "cell_type": "code",
      "source": [
        "n = 10000\n",
        "u = random.uniform(key,shape=(d, n),minval=-3 , maxval=3)\n",
        "u"
      ],
      "metadata": {
        "id": "Boub3asExpUe"
      },
      "execution_count": null,
      "outputs": []
    },
    {
      "cell_type": "markdown",
      "source": [
        "### Step 3: Compute x = m + Lu\n",
        "The variable x = m + Lu  has a multivariate normal distribution since is a linear combination of independent normally distributed variables. Moreover,\n",
        "\n",
        "\\begin{align} \n",
        "      𝐸[x] = 𝐸[m + Lu] = m + L𝐸[u] = m\n",
        "\\end{align}\n",
        "\n",
        "and\n",
        "\n",
        "\\begin{align} \n",
        "      𝐸[xx^T] = 𝐸[mm^T]𝐸[mu^TL^T]+𝐸[Lum^T]+𝐸[Luu^TL^T] = ||m||^2 + K\n",
        "\\end{align}\n",
        "\n",
        "hence,\n",
        "\n",
        "\\begin{align} \n",
        "      𝐸[(x-m)(x^T-m^T)] = K\n",
        "\\end{align}\n",
        "\n"
      ],
      "metadata": {
        "id": "HHbdiNgNw3h0"
      }
    },
    {
      "cell_type": "code",
      "source": [
        "x = m + jnp.dot(L, u).T\n",
        "x"
      ],
      "metadata": {
        "id": "-ua6bHCTz6Mx"
      },
      "execution_count": null,
      "outputs": []
    },
    {
      "cell_type": "markdown",
      "source": [
        "### Using JAX Sampler\n",
        "JAX has a build in multivariate normal sampling function:"
      ],
      "metadata": {
        "id": "E2CIebdptXVS"
      }
    },
    {
      "cell_type": "code",
      "source": [
        "key = random.PRNGKey(67)\n",
        "cov = jnp.array([[1.2, 0.4], [0.4, 1.0]])\n",
        "mean = jnp.array([3,-1])\n",
        "x1 = random.multivariate_normal(key, mean, cov, (5000,)).T\n",
        "x1"
      ],
      "metadata": {
        "id": "48My1KhuGqmH"
      },
      "execution_count": null,
      "outputs": []
    },
    {
      "cell_type": "markdown",
      "source": [
        ""
      ],
      "metadata": {
        "id": "lVpR8tQOhiq6"
      }
    }
  ]
}