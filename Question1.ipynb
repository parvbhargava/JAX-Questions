{
  "nbformat": 4,
  "nbformat_minor": 0,
  "metadata": {
    "colab": {
      "name": "Question1.ipynb",
      "private_outputs": true,
      "provenance": [],
      "authorship_tag": "ABX9TyPlhTX1Etdc92cKDqtBLa81",
      "include_colab_link": true
    },
    "kernelspec": {
      "name": "python3",
      "display_name": "Python 3"
    },
    "language_info": {
      "name": "python"
    }
  },
  "cells": [
    {
      "cell_type": "markdown",
      "metadata": {
        "id": "view-in-github",
        "colab_type": "text"
      },
      "source": [
        "<a href=\"https://colab.research.google.com/github/parvbhargava/SRIP-Parv-Bhargava/blob/main/Question1.ipynb\" target=\"_parent\"><img src=\"https://colab.research.google.com/assets/colab-badge.svg\" alt=\"Open In Colab\"/></a>"
      ]
    },
    {
      "cell_type": "code",
      "execution_count": null,
      "metadata": {
        "id": "Izkc0-kAAjrS"
      },
      "outputs": [],
      "source": [
        "import jax\n",
        "import jax.numpy as jnp\n",
        "import numpy as np\n",
        "from jax import random\n",
        "from scipy.stats import multivariate_normal\n",
        "from mpl_toolkits.mplot3d import Axes3D\n",
        "import matplotlib.pyplot as plt\n",
        "\n",
        "key = random.PRNGKey(0)\n",
        "cov = jnp.array([[1, 0.6], [0.6, 2]])\n",
        "mean = jnp.array([0,0])\n",
        "x1,x2 = jax.random.multivariate_normal(key, mean, cov, (5000,)).T\n",
        "\n",
        "mu_x = 0\n",
        "variance_x = 3\n",
        "\n",
        "mu_y = 0\n",
        "variance_y = 15\n",
        "X, Y = np.meshgrid(x1,x2)\n",
        "\n",
        "pos = np.empty(X.shape + (2,))\n",
        "pos[:, :, 0] = X; pos[:, :, 1] = Y\n",
        "rv = multivariate_normal([mu_x, mu_y], [[variance_x, 0], [0, variance_y]])\n",
        "\n",
        "#Make a 3D plot\n",
        "fig = plt.figure()\n",
        "ax = fig.gca(projection='3d')\n",
        "ax.plot_surface(X, Y, rv.pdf(pos),cmap='viridis',linewidth=0)\n",
        "ax.set_xlabel('X axis')\n",
        "ax.set_ylabel('Y axis')\n",
        "ax.set_zlabel('Z axis')\n",
        "plt.show()"
      ]
    },
    {
      "cell_type": "code",
      "source": [
        "#Parameters to set\n",
        "mu_x = 0\n",
        "variance_x = 3\n",
        "\n",
        "mu_y = 0\n",
        "variance_y = 15\n",
        "\n",
        "#Create grid and multivariate normal\n",
        "x = jnp.linspace(-10,10,500)\n",
        "y = jnp.linspace(-10,10,500)\n",
        "X, Y = np.meshgrid(x,y)\n",
        "pos = np.empty(X.shape + (2,))\n",
        "pos[:, :, 0] = X; pos[:, :, 1] = Y\n",
        "rv = multivariate_normal([mu_x, mu_y], [[variance_x, 0], [0, variance_y]])\n",
        "\n",
        "#Make a 3D plot\n",
        "fig = plt.figure()\n",
        "ax = fig.gca(projection='3d')\n",
        "ax.plot_surface(X, Y, rv.pdf(pos),cmap='viridis',linewidth=0)\n",
        "ax.set_xlabel('p(X)')\n",
        "ax.set_ylabel('p(Y)')\n",
        "ax.set_zlabel('X')\n",
        "plt.show()"
      ],
      "metadata": {
        "id": "zYH77AboAktN"
      },
      "execution_count": null,
      "outputs": []
    },
    {
      "cell_type": "code",
      "source": [
        ""
      ],
      "metadata": {
        "id": "UKCNvEYtAreg"
      },
      "execution_count": null,
      "outputs": []
    }
  ]
}